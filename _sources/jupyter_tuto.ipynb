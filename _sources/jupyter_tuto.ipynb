{
 "cells": [
  {
   "cell_type": "markdown",
   "id": "frank-nightlife",
   "metadata": {},
   "source": [
    "# Utilisation de Jupyter\n",
    "\n",
    "Un notebook Jupyter est à la fois:\n",
    "* Une application Web interactive dans laquelle on peut documenter, exécuter et partager du code (Python pour nous).\n",
    "* Un document qui permet d'intégrer des cellules de textes et/ou d'équations et des cellules du code (Python).\n",
    "\n",
    "C'est un outil très utile en séance de travaux pratiques (entre autre) puisqu'il permet d'associer un compte-rendu propre et ordonnée (grâce aux cellules de texte) et l'exploitation des données grâce aux méthodes numériques implémentées dans les cellules de code Python.\n",
    "\n",
    "_Remarque : Ce document que vous lisez à l'heure actuelle est (ou a été créé à partir) d'un notebook._\n",
    "\n",
    "Dans ce document, nous allons vous présenter ce qu'est un notebook et comment les ouvrir et les modifier avec une application locale.\n",
    "\n",
    "## Un notebook : ca se présente comment ?\n",
    "\n",
    "### Allure générale\n",
    "\n",
    "Un notebook se présente comme un fichier d'extension .ipynb. Lorsqu'il est ouvert par l'application Jupyter notebook (cf. suite pour y accéder), elle se présente sous la forme suivante d'une suite de \"**cellules**\" de *texte* (au format Markdown) et *code* (Python - avec la partie affichée par le compilateur si la cellule a été executée).\n",
    "\n",
    "On notera dans l'image du notebook ci-dessous un liseré bleu ou vert sur le côté gauche de la cellule *active* (qu'on édite ou qu'on veut exécuter).\n",
    "\n",
    "```{figure} images/jupyternotebookallure_com.png\n",
    ":name: allure\n",
    ":align: center\n",
    "Note Jupyter\n",
    "```\n",
    "\n",
    "***\n",
    "### Les cellules de texte\n",
    "Par défaut, les cellules de texte sont éditées au format \"Markdown\". La mise en forme se fait au moyen de notations simples : titre, liste ou formule mathématique.\n",
    "\n",
    "_Vous ne devriez pas beaucoup modifier les zones de texte. Elles correspondront en général aux énonces._\n",
    "\n",
    "***\n",
    "### Les cellules de code\n",
    "\n",
    "Les cellules de code sont interprétées comme du Python.\n",
    "\n",
    "Pour exécuter le code, il faut appuyer sur **Shift + Entrée** ou sur le bouton **Exécuter** dans la barre d'outil en haut de la page.\n",
    "\n",
    "```{figure} images/jupyternotebookoutil.png\n",
    ":name: barre_out\n",
    ":align: center\n",
    "Barre d'outil\n",
    "```"
   ]
  },
  {
   "cell_type": "code",
   "execution_count": 1,
   "id": "treated-store",
   "metadata": {},
   "outputs": [
    {
     "name": "stdout",
     "output_type": "stream",
     "text": [
      "3\n"
     ]
    }
   ],
   "source": [
    "a = 1\n",
    "b = 2\n",
    "print(a + b)"
   ]
  },
  {
   "cell_type": "markdown",
   "id": "current-natural",
   "metadata": {},
   "source": [
    "````{attention} \n",
    "*Les cellules de code ne sont pas indépendantes. Quand vous exécutez une cellule, elle tient compte de toutes les cellules **qui ont été exécutées avant**.*\n",
    "\n",
    "**Attention**, la compréhension des cellules ne se fait pas dans l'ordre du document mais dans l'ordre d'execution des cellules. Et si vous exécutez deux fois la même cellule, elle tiendra compte de la première exécution.\n",
    "\n",
    "__On retiendra qu'il est important d'exécuter TOUTES les cellules de code DANS l'ORDRE du notebook.__\n",
    "````\n",
    "\n",
    "_A titre d'exemple, la cellule de code ci-dessous ne renvoie pas d'erreur __uniquement si la précédent a été exécutée.__ Et si on l'exécute plusieurs fois, on incrémente la variable `a` de 1._"
   ]
  },
  {
   "cell_type": "code",
   "execution_count": 2,
   "id": "political-relation",
   "metadata": {},
   "outputs": [],
   "source": [
    "a = a + 1"
   ]
  },
  {
   "cell_type": "markdown",
   "id": "bright-theme",
   "metadata": {},
   "source": [
    "***\n",
    "### La barre d'outil\n",
    "```{figure} images/jupyternotebookoutil.png\n",
    ":name: barre_outil\n",
    ":align: center\n",
    "Barre d'outil\n",
    "```\n",
    "\n",
    "La barre d'outil en haut regroupe les boutons les plus utiles. Dans l'ordre (en gras les plus utiles):\n",
    "\n",
    "1. **Enregistrer le fichier** notebook (son nom est tout en haut, dans le cas montré tout en haut,le nom du fichier est `methodes_exp_partie_3.ipynb`). _Vous pouvez changer le nom du fichier en cliquant dessus en haut de la page._\n",
    "2. **Ajouter une cellule après** : La cellule est par défaut une cellule de code. Elle est ajoutée après la cellule active.\n",
    "3. Couper/Copier/Coller la cellule active\n",
    "4. Déplacer la cellule active vers le haut ou vers le bas\n",
    "5. **Executer la cellule active** _Identique à `Shift+Entrée`_\n",
    "6. Arrêter le noyau : utile seulement si le temps d'exécution devient trop long _(exemple : boucle infinie !)_.\n",
    "7. **Relancer le noyau** : permet de repartir de 0 dans la compilation. _Pensez à relancer l'éxecution des cellules précédentes !_\n",
    "8. Relancer le noyau et exécuter toutes les cellules (dans l'ordre du document cette fois)\n",
    "9. Changer le format de la cellule (permet de transformer une cellule de code en cellule Markdown par exemple)\n",
    "10. Afficher la palette de commande : Elle regroupe toutes les commandes exécutables (comment supprimer une cellule par exemple).\n",
    "\n",
    "*Remarque : Il existe des commandes clavier qui permettent de gagner en rapidité mais elles ne seront pas présentées pour ne pas alourdir la présentation. Ces commandes sont affichées dans la palette de commande à côté de la commande*.\n",
    "\n",
    "***\n",
    "## Un notebook : comment ça s'exécute ?\n",
    "Il s'agit d'installer Python, Jupyter et les bibliothèques scientifiques utiles en physique (numpy, scipy, matplotlib...). La méthode proposée est d'installer __Anaconda__. Elle a [déjà été présentée](https://filedn.eu/l2bpHGgwv4dYLpu8bJBwYM7/Stan/Pyzo_Anaconda/Python_pyzo_insta_gen_auroraW/co/Python_Installation.html).\n",
    "\n",
    "### Lancement de Jupyter notebook\n",
    "Lancer le navigateur Anaconda. La [fenêtre s'ouvre](accueil)\n",
    "\n",
    "```{figure} ./images/accueil_anaconda.png\n",
    ":name: accueil\n",
    ":align: center\n",
    "Navigateur Anaconda\n",
    "```\n",
    "Il suffit de cliquer sur \"Jupyter Notebook\" pour lancer l'application. \n",
    "\n",
    "### Utilisation de Jupyter\n",
    "Par défaut, _Jupyter notebook_ s'ouvrira sur votre répertoire personnel. Vous aurez une fenêtre comme ceci:\n",
    "\n",
    "```{figure} ./images/jupytertree.png\n",
    ":name: treejupyter\n",
    ":align: center\n",
    "Accueil Notebook Jupyter\n",
    "```\n",
    "\n",
    "* Vous pouvez naviguer entre les répertoires (comme `vitesse_son_2` sur l'image). __Il est vivement conseillé de créer un répertoire spécifique aux activités du cours/TP de physique__ (bouton `Nouveau` en haut à droite).\n",
    "* Les notebooks sont les fichiers avec les extensions `.ipynb`. Il suffit de cliquer sur un fichier pour l'ouvrir.\n",
    "* Vous pouvez aussi créer vos propres notebooks avec le bouton `Nouveau` (choisir `Python 3`)"
   ]
  }
 ],
 "metadata": {
  "jupytext": {
   "encoding": "# -*- coding: utf-8 -*-",
   "formats": "ipynb,md:myst",
   "split_at_heading": true,
   "text_representation": {
    "extension": ".md",
    "format_name": "myst",
    "format_version": 0.13,
    "jupytext_version": "1.10.3"
   }
  },
  "kernelspec": {
   "display_name": "Python 3",
   "language": "python",
   "name": "python3"
  },
  "language_info": {
   "codemirror_mode": {
    "name": "ipython",
    "version": 3
   },
   "file_extension": ".py",
   "mimetype": "text/x-python",
   "name": "python",
   "nbconvert_exporter": "python",
   "pygments_lexer": "ipython3",
   "version": "3.9.2"
  },
  "source_map": [
   15,
   62,
   66,
   78,
   80
  ]
 },
 "nbformat": 4,
 "nbformat_minor": 5
}